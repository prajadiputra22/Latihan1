{
 "cells": [
  {
   "cell_type": "code",
   "execution_count": 22,
   "id": "c5e049d4",
   "metadata": {},
   "outputs": [
    {
     "name": "stdout",
     "output_type": "stream",
     "text": [
      "===== LATIHAN =====\n",
      "nama: Darmawan\n",
      "usia: 18\n",
      "Sudah menikah: False\n",
      "hobi: main game\n",
      "Asal sekolah: SMK YASTI\n",
      "===== TERIMAKASIH =====\n"
     ]
    }
   ],
   "source": [
    "print('='*5,'LATIHAN','='*5)\n",
    "\n",
    "nama = 'Darmawan'\n",
    "usia = 18\n",
    "status = False\n",
    "hobi = 'main game'\n",
    "sekolah = 'SMK YASTI'\n",
    "\n",
    "print ('nama:',nama)\n",
    "print ('usia:',usia)\n",
    "print ('Sudah menikah:',status)\n",
    "print ('hobi:',hobi)\n",
    "print ('Asal sekolah:',sekolah)\n",
    "\n",
    "print('='*5,'TERIMAKASIH','='*5)"
   ]
  },
  {
   "cell_type": "code",
   "execution_count": 20,
   "id": "aa82ad69",
   "metadata": {},
   "outputs": [
    {
     "name": "stdout",
     "output_type": "stream",
     "text": [
      "a= 1\n",
      "b= 2\n",
      "c= mantap\n"
     ]
    }
   ],
   "source": [
    "a,b,c=1,2,'mantap'\n",
    "\n",
    "print ('a=',a)\n",
    "print ('b=',b)\n",
    "print ('c=',c)"
   ]
  },
  {
   "cell_type": "code",
   "execution_count": 21,
   "id": "df53d786",
   "metadata": {},
   "outputs": [
    {
     "name": "stdout",
     "output_type": "stream",
     "text": [
      "a= 10\n",
      "b= 10\n",
      "c= 10\n"
     ]
    }
   ],
   "source": [
    "a=b=c=10\n",
    "\n",
    "print ('a=',a)\n",
    "print ('b=',b)\n",
    "print ('c=',c)"
   ]
  },
  {
   "cell_type": "code",
   "execution_count": 25,
   "id": "053ce346",
   "metadata": {},
   "outputs": [
    {
     "name": "stdout",
     "output_type": "stream",
     "text": [
      "<class 'int'>\n",
      "<class 'str'>\n"
     ]
    }
   ],
   "source": [
    "kota = 'Sukabumi'\n",
    "luas = 600\n",
    "print (type(luas))\n",
    "print (type(kota))"
   ]
  },
  {
   "cell_type": "code",
   "execution_count": 27,
   "id": "4c01ae07",
   "metadata": {},
   "outputs": [
    {
     "name": "stdout",
     "output_type": "stream",
     "text": [
      "10.5 * 5 = 52.5\n",
      "type data lebar <class 'int'>\n",
      "type data panjang <class 'float'>\n",
      "type data luas <class 'float'>\n"
     ]
    }
   ],
   "source": [
    "lebar=5\n",
    "panjang=10.5\n",
    "luas = lebar*panjang\n",
    "\n",
    "print (panjang,'*',lebar,'=',luas)\n",
    "print ('type data lebar',type(lebar))\n",
    "print ('type data panjang',type(panjang))\n",
    "print ('type data luas',type(luas))"
   ]
  },
  {
   "cell_type": "code",
   "execution_count": 28,
   "id": "2add4a40",
   "metadata": {},
   "outputs": [
    {
     "name": "stdout",
     "output_type": "stream",
     "text": [
      "5j + 10j = 15j\n",
      "type data a <class 'complex'>\n",
      "type data b <class 'complex'>\n",
      "type data c <class 'complex'>\n"
     ]
    }
   ],
   "source": [
    "a=5j\n",
    "b=10j\n",
    "c=a+b\n",
    "\n",
    "print (a,'+',b,'=',c)\n",
    "print ('type data a', type(a))\n",
    "print ('type data b', type(b))\n",
    "print ('type data c', type(c))"
   ]
  },
  {
   "cell_type": "code",
   "execution_count": 46,
   "id": "6ffa648e",
   "metadata": {},
   "outputs": [
    {
     "name": "stdout",
     "output_type": "stream",
     "text": [
      "luas segitiga\n",
      "luas segitiga adalah 25.0\n"
     ]
    }
   ],
   "source": [
    "print ('luas segitiga')\n",
    "\n",
    "alas = 10\n",
    "tinggi = 5\n",
    "luas = alas*tinggi/2\n",
    "\n",
    "print ('luas segitiga adalah %0.1f' %luas)"
   ]
  },
  {
   "cell_type": "code",
   "execution_count": 40,
   "id": "ef01f29e",
   "metadata": {},
   "outputs": [
    {
     "name": "stdout",
     "output_type": "stream",
     "text": [
      "2022 - 2004 = 18\n"
     ]
    }
   ],
   "source": [
    "tahun_lahir=2004\n",
    "tahun_sekarang=2022\n",
    "umur=tahun_sekarang-tahun_lahir\n",
    "\n",
    "print (tahun_sekarang,'-',tahun_lahir,'=',umur)"
   ]
  },
  {
   "cell_type": "code",
   "execution_count": 60,
   "id": "c4ec3ebd",
   "metadata": {},
   "outputs": [
    {
     "name": "stdout",
     "output_type": "stream",
     "text": [
      "darmawan prajadiputra (18) , dari wardoyong , kata mutiara: gak ada\n",
      "tipe data dari nama depan <class 'str'>\n",
      "tipe data dari nama belakang <class 'str'>\n",
      "tipe data dari nama lengkap <class 'str'>\n"
     ]
    }
   ],
   "source": [
    "#bealajar tipe data string#\n",
    "nama_depan = 'darmawan'\n",
    "nama_belakang = 'prajadiputra'\n",
    "nama_lengkap = nama_depan + ' ' +nama_belakang\n",
    "usia = '18'\n",
    "alamat = 'wardoyong'\n",
    "kata_mutiara = 'gak ada'\n",
    "\n",
    "print (nama_lengkap,'('+usia+')',',','dari',alamat,', kata mutiara:',kata_mutiara)\n",
    "print ('tipe data dari nama depan',type(nama_depan))\n",
    "print ('tipe data dari nama belakang',type(nama_belakang))\n",
    "print ('tipe data dari nama lengkap',type(nama_lengkap))\n",
    "print ('tipe data dari nama lengkap',type(nama_lengkap))"
   ]
  },
  {
   "cell_type": "code",
   "execution_count": 59,
   "id": "fb4d04a8",
   "metadata": {},
   "outputs": [
    {
     "name": "stdout",
     "output_type": "stream",
     "text": [
      "sayasayasaya\n"
     ]
    }
   ],
   "source": [
    "print ('saya'*3)\n",
    "print ('saya'+'saya')"
   ]
  },
  {
   "cell_type": "code",
   "execution_count": 74,
   "id": "96069e34",
   "metadata": {},
   "outputs": [
    {
     "name": "stdout",
     "output_type": "stream",
     "text": [
      "\n",
      "saya\n",
      "saya\n",
      "saya\n",
      "\n"
     ]
    }
   ],
   "source": [
    "\n",
    "print ('''\n",
    "saya\n",
    "saya\n",
    "''')"
   ]
  },
  {
   "cell_type": "code",
   "execution_count": 77,
   "id": "ec33d24e",
   "metadata": {},
   "outputs": [
    {
     "name": "stdout",
     "output_type": "stream",
     "text": [
      "Apaka saya orang Indonesia? True\n",
      "Apaka saya robot? False\n",
      "tipe data orang Indonesia <class 'bool'>\n"
     ]
    }
   ],
   "source": [
    "saya_orang_Indonesia = True\n",
    "saya_adalah_robot = False\n",
    "\n",
    "print ('Apaka saya orang Indonesia?',saya_orang_Indonesia)\n",
    "print ('Apaka saya robot?',saya_adalah_robot)\n",
    "print ('tipe data orang Indonesia',type(saya_orang_Indonesia))"
   ]
  },
  {
   "cell_type": "code",
   "execution_count": 83,
   "id": "3cac4a99",
   "metadata": {},
   "outputs": [
    {
     "name": "stdout",
     "output_type": "stream",
     "text": [
      "12<10: False\n",
      "10>12: False\n",
      "A=a: False\n"
     ]
    }
   ],
   "source": [
    "a=True\n",
    "b=False\n",
    "\n",
    "print ('12<10:',12<10)\n",
    "print ('10>12:',10>12)\n",
    "print ('A=a:','A'=='a')"
   ]
  },
  {
   "cell_type": "code",
   "execution_count": null,
   "id": "177239b3",
   "metadata": {},
   "outputs": [],
   "source": []
  }
 ],
 "metadata": {
  "kernelspec": {
   "display_name": "Python 3 (ipykernel)",
   "language": "python",
   "name": "python3"
  },
  "language_info": {
   "codemirror_mode": {
    "name": "ipython",
    "version": 3
   },
   "file_extension": ".py",
   "mimetype": "text/x-python",
   "name": "python",
   "nbconvert_exporter": "python",
   "pygments_lexer": "ipython3",
   "version": "3.9.12"
  }
 },
 "nbformat": 4,
 "nbformat_minor": 5
}
