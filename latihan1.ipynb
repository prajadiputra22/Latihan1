{
 "cells": [
  {
   "cell_type": "code",
   "execution_count": 2,
   "id": "ffae2584",
   "metadata": {},
   "outputs": [
    {
     "name": "stdout",
     "output_type": "stream",
     "text": [
      "MENGHITUNG LUAS SEGITIGA\n"
     ]
    }
   ],
   "source": [
    "print (\"MENGHITUNG LUAS SEGITIGA\")"
   ]
  },
  {
   "cell_type": "code",
   "execution_count": 9,
   "id": "510edea5",
   "metadata": {},
   "outputs": [
    {
     "name": "stdout",
     "output_type": "stream",
     "text": [
      "Masukan alas :2\n",
      "Masukan tinggi :4\n",
      "luas segitiga adalah 4.00\n"
     ]
    }
   ],
   "source": [
    "#Input Alas dan Tinggi Segitiga\n",
    "alas = float(input('Masukan alas :'))\n",
    "tinggi = float(input('Masukan tinggi :'))\n",
    "\n",
    "#Hitung Luas Segitiga\n",
    "luas = alas*tinggi/2\n",
    "\n",
    "print ('luas segitiga adalah %0.2f' %luas)"
   ]
  },
  {
   "cell_type": "code",
   "execution_count": 4,
   "id": "ecb405b9",
   "metadata": {},
   "outputs": [],
   "source": []
  },
  {
   "cell_type": "code",
   "execution_count": null,
   "id": "ea109b8e",
   "metadata": {},
   "outputs": [],
   "source": []
  }
 ],
 "metadata": {
  "kernelspec": {
   "display_name": "Python 3 (ipykernel)",
   "language": "python",
   "name": "python3"
  },
  "language_info": {
   "codemirror_mode": {
    "name": "ipython",
    "version": 3
   },
   "file_extension": ".py",
   "mimetype": "text/x-python",
   "name": "python",
   "nbconvert_exporter": "python",
   "pygments_lexer": "ipython3",
   "version": "3.9.12"
  }
 },
 "nbformat": 4,
 "nbformat_minor": 5
}
