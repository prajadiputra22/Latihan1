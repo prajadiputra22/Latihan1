{
 "cells": [
  {
   "cell_type": "code",
   "execution_count": 1,
   "id": "0a5b1a6e",
   "metadata": {},
   "outputs": [
    {
     "name": "stdout",
     "output_type": "stream",
     "text": [
      "['x', 'y', 'z']\n",
      "['y', 'z']\n",
      "['z']\n"
     ]
    }
   ],
   "source": [
    "list1=['x','y','z', 'aa']\n",
    "\n",
    "print(list2[0:3])\n",
    "print(list2[1:3])\n",
    "print(list2[2:3])"
   ]
  },
  {
   "cell_type": "code",
   "execution_count": 2,
   "id": "96c89f75",
   "metadata": {},
   "outputs": [
    {
     "name": "stdout",
     "output_type": "stream",
     "text": [
      "2019\n"
     ]
    }
   ],
   "source": [
    "list1=['x','y','z', 'aa']\n",
    "list1[2]=2019\n",
    "\n",
    "print(list1[2])"
   ]
  },
  {
   "cell_type": "code",
   "execution_count": 2,
   "id": "d5d9f415",
   "metadata": {},
   "outputs": [
    {
     "name": "stdout",
     "output_type": "stream",
     "text": [
      "LIST :\n",
      "* pisang\n",
      "* anggur\n",
      "* jeruk\n",
      "* cecenet\n",
      "* mangga\n",
      "\n",
      "LIST :\n",
      "* pisang\n",
      "* anggur\n",
      "* apel\n",
      "* cecenet\n",
      "* mangga\n",
      "\n",
      "Masukan item yang akan dihapus : cecenet\n",
      "LIST :\n",
      "* pisang\n",
      "* anggur\n",
      "* apel\n",
      "* mangga\n"
     ]
    },
    {
     "data": {
      "text/plain": [
       "[None, None, None, None]"
      ]
     },
     "execution_count": 2,
     "metadata": {},
     "output_type": "execute_result"
    }
   ],
   "source": [
    "fruits = ['pisang','anggur','jeruk','cecenet','mangga']\n",
    "print ('LIST :')\n",
    "[print('*',i) for i in fruits]\n",
    "\n",
    "fruits[2]='apel'\n",
    "print('\\nLIST :')\n",
    "[print('*',i) for i in fruits]\n",
    "\n",
    "fruits.remove(input('\\nMasukan item yang akan dihapus : '))\n",
    "print('LIST :')\n",
    "[print('*',i) for i in fruits]"
   ]
  },
  {
   "cell_type": "code",
   "execution_count": 5,
   "id": "10109096",
   "metadata": {},
   "outputs": [
    {
     "name": "stdout",
     "output_type": "stream",
     "text": [
      "10\n",
      "1\n",
      "10\n"
     ]
    }
   ],
   "source": [
    "list = [1,2,3,4,5,6,7,8,9,10]\n",
    "\n",
    "print(max(list))\n",
    "print(min(list))\n",
    "print(len(list))"
   ]
  },
  {
   "cell_type": "code",
   "execution_count": 10,
   "id": "905a345f",
   "metadata": {},
   "outputs": [
    {
     "name": "stdout",
     "output_type": "stream",
     "text": [
      "dict[\"nama\"]: udin\n",
      "dict[\"Usia\"]: 23\n"
     ]
    }
   ],
   "source": [
    "dict = {'nama': 'udin', 'usia': 23, 'class': 'Awal'}\n",
    "\n",
    "print ('dict[\"nama\"]:', dict['nama'])#harus beda kutipnya \n",
    "print ('dict[\"Usia\"]:', dict['usia'])"
   ]
  },
  {
   "cell_type": "code",
   "execution_count": 12,
   "id": "a6cf970a",
   "metadata": {},
   "outputs": [
    {
     "name": "stdout",
     "output_type": "stream",
     "text": [
      "Nama : Darmawan\n",
      "Usia : 18\n",
      "Class : TI22E\n"
     ]
    },
    {
     "data": {
      "text/plain": [
       "[None, None, None]"
      ]
     },
     "execution_count": 12,
     "metadata": {},
     "output_type": "execute_result"
    }
   ],
   "source": [
    "dict = {\n",
    "    'Nama': 'Darmawan',\n",
    "    'Usia': 18,\n",
    "    'Class': 'TI22E'\n",
    "}\n",
    "\n",
    "[print(i,':', dict[i]) for i in dict]"
   ]
  },
  {
   "cell_type": "code",
   "execution_count": 13,
   "id": "29407560",
   "metadata": {},
   "outputs": [
    {
     "name": "stdout",
     "output_type": "stream",
     "text": [
      "Usia : 18\n",
      "Class : TI22E\n"
     ]
    },
    {
     "data": {
      "text/plain": [
       "[None, None]"
      ]
     },
     "execution_count": 13,
     "metadata": {},
     "output_type": "execute_result"
    }
   ],
   "source": [
    "dict = {\n",
    "    'Nama': 'Darmawan',\n",
    "    'Usia': 18,\n",
    "    'Class': 'TI22E'\n",
    "}\n",
    "\n",
    "del dict['Nama']\n",
    "[print(i,':', dict[i]) for i in dict]"
   ]
  },
  {
   "cell_type": "code",
   "execution_count": null,
   "id": "ec29e228",
   "metadata": {},
   "outputs": [],
   "source": []
  }
 ],
 "metadata": {
  "kernelspec": {
   "display_name": "Python 3 (ipykernel)",
   "language": "python",
   "name": "python3"
  },
  "language_info": {
   "codemirror_mode": {
    "name": "ipython",
    "version": 3
   },
   "file_extension": ".py",
   "mimetype": "text/x-python",
   "name": "python",
   "nbconvert_exporter": "python",
   "pygments_lexer": "ipython3",
   "version": "3.9.12"
  }
 },
 "nbformat": 4,
 "nbformat_minor": 5
}
