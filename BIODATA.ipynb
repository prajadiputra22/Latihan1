{
 "cells": [
  {
   "cell_type": "code",
   "execution_count": 1,
   "id": "6629adb1",
   "metadata": {},
   "outputs": [
    {
     "name": "stdout",
     "output_type": "stream",
     "text": [
      "BIODATA\n",
      "Nama : Darmawan Suka Prajadiputra\n",
      "Kelas : TI22 E\n",
      "Jurusan : Teknik Infrormatika\n",
      "Quote : Lakukan apa yang ingin kamu lakukan, selagi hal itu tidak merugikan orang lain\n"
     ]
    }
   ],
   "source": [
    "nama = 'Darmawan Suka Prajadiputra'\n",
    "kelas = 'TI22 E'\n",
    "jurusan = 'Teknik Infrormatika'\n",
    "quote = 'Lakukan apa yang ingin kamu lakukan, selagi hal itu tidak merugikan orang lain'\n",
    "\n",
    "print ('BIODATA')\n",
    "print ('Nama :',nama)\n",
    "print ('Kelas :',kelas)\n",
    "print ('Jurusan :',jurusan)\n",
    "print ('Quote :',quote)"
   ]
  },
  {
   "cell_type": "code",
   "execution_count": null,
   "id": "2f26b2ec",
   "metadata": {},
   "outputs": [],
   "source": []
  }
 ],
 "metadata": {
  "kernelspec": {
   "display_name": "Python 3 (ipykernel)",
   "language": "python",
   "name": "python3"
  },
  "language_info": {
   "codemirror_mode": {
    "name": "ipython",
    "version": 3
   },
   "file_extension": ".py",
   "mimetype": "text/x-python",
   "name": "python",
   "nbconvert_exporter": "python",
   "pygments_lexer": "ipython3",
   "version": "3.9.12"
  }
 },
 "nbformat": 4,
 "nbformat_minor": 5
}
