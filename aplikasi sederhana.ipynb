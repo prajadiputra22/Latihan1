{
 "cells": [
  {
   "cell_type": "code",
   "execution_count": null,
   "id": "06be8691",
   "metadata": {},
   "outputs": [
    {
     "name": "stdout",
     "output_type": "stream",
     "text": [
      "=========== Program Aplikasi Sederhana ===========\n",
      "=========== Darmawan Suka Prajadiputra ===========\n",
      "[1] Menghitung Luas Segitiga\n",
      "[2] Menghitung Luas Persegi Panjang\n",
      "[3] Menentukan Nomor Ganjil/Genap\n",
      "[4] Quit\n",
      "Pilih : 3\n",
      "\n",
      "Masukan angka : 13\n",
      "13 adalah ganjil\n",
      "\n",
      "=========== Program Aplikasi Sederhana ===========\n",
      "=========== Darmawan Suka Prajadiputra ===========\n",
      "[1] Menghitung Luas Segitiga\n",
      "[2] Menghitung Luas Persegi Panjang\n",
      "[3] Menentukan Nomor Ganjil/Genap\n",
      "[4] Quit\n"
     ]
    }
   ],
   "source": [
    "while True:\n",
    "    print(\" Program Aplikasi Sederhana \".center(50,\"=\"))\n",
    "    print(\" Darmawan Suka Prajadiputra \".center(50,\"=\"))\n",
    "    print(\"\"\"[1] Menghitung Luas Segitiga\n",
    "[2] Menghitung Luas Persegi Panjang\n",
    "[3] Menentukan Nomor Ganjil/Genap\n",
    "[4] Quit\"\"\")\n",
    "    opt = int(input(\"Pilih : \"))\n",
    "    if opt == 1:\n",
    "        alas = int(input(\"\\nMasukan Alas   : \"))\n",
    "        tinggi = int(input(\"Masukan Tinggi : \"))\n",
    "        print(f\"\\nLuas Segitiga dari \\nAlas   = {alas}\\nTinggi = {tinggi} \\nDengan Rumus 1/2 x Alas x Tinggi\\nHasilnya = {alas*tinggi*0.5}\\n\")\n",
    "    elif opt == 2:\n",
    "        panjang = int(input(\"\\nMasukan Panjang : \"))\n",
    "        lebar = int(input(\"Masukan Lebar   : \"))\n",
    "        print(f\"\\nLuas Persegi Panjang dari \\nPanjang = {panjang} \\nLebar = {lebar} \\nDengan Rumus Panjang x Lebar \\nHasilnya = {panjang*lebar}\\n\")\n",
    "    elif opt == 3:\n",
    "        num = int(input(\"\\nMasukan angka : \"))\n",
    "        if num % 2 == 0:\n",
    "            print(f\"{num} adalah genap\\n\")\n",
    "        else:\n",
    "            print(f\"{num} adalah ganjil\\n\")\n",
    "    elif opt == 4:\n",
    "        quit = input(\"\\nApakah Kamu Ingin Keluar (y/n) : \")\n",
    "        if quit == 'y':\n",
    "            print(\"Terima Kasih Karena Telah Menggunakan Program ini\")\n",
    "            break\n",
    "        else: continue\n",
    "    else:\n",
    "        print(\"ERROR - Angka yang anda masukan tidak ada didalam daftar\")"
   ]
  },
  {
   "cell_type": "code",
   "execution_count": null,
   "id": "49b11949",
   "metadata": {},
   "outputs": [],
   "source": []
  }
 ],
 "metadata": {
  "kernelspec": {
   "display_name": "Python 3 (ipykernel)",
   "language": "python",
   "name": "python3"
  },
  "language_info": {
   "codemirror_mode": {
    "name": "ipython",
    "version": 3
   },
   "file_extension": ".py",
   "mimetype": "text/x-python",
   "name": "python",
   "nbconvert_exporter": "python",
   "pygments_lexer": "ipython3",
   "version": "3.9.12"
  }
 },
 "nbformat": 4,
 "nbformat_minor": 5
}
