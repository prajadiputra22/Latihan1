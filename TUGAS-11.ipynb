{
 "cells": [
  {
   "cell_type": "code",
   "execution_count": 1,
   "id": "6db4954d",
   "metadata": {},
   "outputs": [
    {
     "name": "stdout",
     "output_type": "stream",
     "text": [
      "\n",
      "PROGRAM MENGHITUNG BERAT BADAN IDEAL\n",
      "Created by :Darmawan Suka Prajadiputra\n",
      "\n",
      "1. Menghitung berat badan ideal cowo\n",
      "2. Menghitung berat badan ideal cewe\n",
      "3. Exit\n",
      "\n",
      "Pilih nomor menu yang tersedia : 1\n",
      "\n",
      "Masukan tinggi badan anda :165\n",
      "Berat badan ideal anda adalah 58.5 Kg\n",
      "\n",
      "PROGRAM MENGHITUNG BERAT BADAN IDEAL\n",
      "Created by :Darmawan Suka Prajadiputra\n",
      "\n",
      "1. Menghitung berat badan ideal cowo\n",
      "2. Menghitung berat badan ideal cewe\n",
      "3. Exit\n",
      "\n",
      "Pilih nomor menu yang tersedia : 2\n",
      "\n",
      "Masukan tinggi badan anda :155\n",
      "Berat badan ideal anda adalah 46.75 Kg\n",
      "\n",
      "PROGRAM MENGHITUNG BERAT BADAN IDEAL\n",
      "Created by :Darmawan Suka Prajadiputra\n",
      "\n",
      "1. Menghitung berat badan ideal cowo\n",
      "2. Menghitung berat badan ideal cewe\n",
      "3. Exit\n",
      "\n",
      "Pilih nomor menu yang tersedia : 3\n",
      "\n",
      "Apakah anda ingin keluar? (y/n) :n\n",
      "\n",
      "PROGRAM MENGHITUNG BERAT BADAN IDEAL\n",
      "Created by :Darmawan Suka Prajadiputra\n",
      "\n",
      "1. Menghitung berat badan ideal cowo\n",
      "2. Menghitung berat badan ideal cewe\n",
      "3. Exit\n",
      "\n",
      "Pilih nomor menu yang tersedia : 3\n",
      "\n",
      "Apakah anda ingin keluar? (y/n) :y\n",
      "TERIMA KASIH TELAH MENGGUNAKAN PROGRAM INI\n"
     ]
    }
   ],
   "source": [
    "while True :\n",
    "    print('\\nPROGRAM MENGHITUNG BERAT BADAN IDEAL')\n",
    "    print('Created by :Darmawan Suka Prajadiputra')\n",
    "    print('''\\n1. Menghitung berat badan ideal cowo\n",
    "2. Menghitung berat badan ideal cewe\n",
    "3. Exit\n",
    "''')\n",
    "    \n",
    "    opt = int(input('Pilih nomor menu yang tersedia : '))\n",
    "    \n",
    "    if opt == 1 :\n",
    "        tb = int(input('\\nMasukan tinggi badan anda :'))\n",
    "        bbi = (tb-100)-((tb-100)*0.1)\n",
    "        print(f'Berat badan ideal anda adalah {bbi} Kg')\n",
    "    \n",
    "    elif opt == 2 :\n",
    "        tb = int(input('\\nMasukan tinggi badan anda :'))\n",
    "        bbi = (tb-100)-((tb-100)*0.15)\n",
    "        print(f'Berat badan ideal anda adalah {bbi} Kg')\n",
    "        \n",
    "    elif opt == 3 :\n",
    "        exit = input('\\nApakah anda ingin keluar? (y/n) :')\n",
    "        if exit == 'y' :\n",
    "            print('Terima kasih telah menggunakan program ini'.upper())\n",
    "            break\n",
    "        else : continue\n",
    "        \n",
    "    else :\n",
    "        print('ERROR - Mohon agar untuk memasukan nomor yang ada di list')"
   ]
  }
 ],
 "metadata": {
  "kernelspec": {
   "display_name": "Python 3 (ipykernel)",
   "language": "python",
   "name": "python3"
  },
  "language_info": {
   "codemirror_mode": {
    "name": "ipython",
    "version": 3
   },
   "file_extension": ".py",
   "mimetype": "text/x-python",
   "name": "python",
   "nbconvert_exporter": "python",
   "pygments_lexer": "ipython3",
   "version": "3.9.12"
  }
 },
 "nbformat": 4,
 "nbformat_minor": 5
}
