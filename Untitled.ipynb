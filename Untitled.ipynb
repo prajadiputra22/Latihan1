{
 "cells": [
  {
   "cell_type": "code",
   "execution_count": null,
   "id": "4690d978",
   "metadata": {},
   "outputs": [
    {
     "name": "stdout",
     "output_type": "stream",
     "text": [
      "Kalkulator Persegi Panjang\n",
      "\n",
      "masukan panjang :12\n"
     ]
    }
   ],
   "source": [
    "print ('Kalkulator Persegi Panjang\\n')\n",
    "\n",
    "panjang = input('masukan panjang :')\n",
    "lebar = input('masukan lebar :')\n",
    "\n",
    "print('Luas =', int(panjang)*int(lebar))"
   ]
  },
  {
   "cell_type": "code",
   "execution_count": 1,
   "id": "f8914b7a",
   "metadata": {},
   "outputs": [
    {
     "name": "stdout",
     "output_type": "stream",
     "text": [
      "Andi**Lala**Ucok\n",
      "\n"
     ]
    }
   ],
   "source": [
    "print ('Andi', 'Lala', 'Ucok\\n',\n",
    "       sep=('**'))"
   ]
  },
  {
   "cell_type": "code",
   "execution_count": 4,
   "id": "584d3642",
   "metadata": {},
   "outputs": [
    {
     "name": "stdout",
     "output_type": "stream",
     "text": [
      "5 + 3 = 8\n",
      "5 + 3 = 8\n"
     ]
    }
   ],
   "source": [
    "a=5\n",
    "b=3\n",
    "\n",
    "print(a,'+', b, '=', a+b)\n",
    "print('{} + {} = {}'. format(a, b, a+b))"
   ]
  },
  {
   "cell_type": "code",
   "execution_count": 11,
   "id": "1a3ec776",
   "metadata": {},
   "outputs": [
    {
     "name": "stdout",
     "output_type": "stream",
     "text": [
      "nama saya Darmawan, dan hobi saya Main game\n"
     ]
    }
   ],
   "source": [
    "nama='Darmawan'\n",
    "hobi='Main game'\n",
    "\n",
    "print('nama saya {}, dan hobi saya {}'. format(nama, hobi))"
   ]
  },
  {
   "cell_type": "code",
   "execution_count": 13,
   "id": "3ee28cc7",
   "metadata": {},
   "outputs": [
    {
     "name": "stdout",
     "output_type": "stream",
     "text": [
      "Tempat tinggal Sukabumi, saya dari kelas TI22E\n"
     ]
    }
   ],
   "source": [
    "print ('Tempat tinggal {tgl}, saya dari kelas {kelas}'\n",
    "      .format(tgl='Sukabumi', kelas='TI22E'))"
   ]
  },
  {
   "cell_type": "code",
   "execution_count": 18,
   "id": "1fcb144a",
   "metadata": {},
   "outputs": [
    {
     "name": "stdout",
     "output_type": "stream",
     "text": [
      "untuk SD\n"
     ]
    }
   ],
   "source": [
    "judul ='Pelajaran Matematika untuk SD'\n",
    "\n",
    "print(judul[-8:])"
   ]
  },
  {
   "cell_type": "code",
   "execution_count": 10,
   "id": "927fef3e",
   "metadata": {},
   "outputs": [
    {
     "name": "stdout",
     "output_type": "stream",
     "text": [
      "Masukan nomor 1 :12\n",
      "Masukan nomor 2 :3\n",
      "Hasiln dari (-) : 9\n",
      "Hasil (+) : 15\n",
      "Hasil (/) : 4.0\n",
      "Hasil (*) : 36\n"
     ]
    }
   ],
   "source": [
    "nomor1 = input('Masukan nomor 1 :')\n",
    "nomor2 = input('Masukan nomor 2 :')\n",
    "\n",
    "print('Hasiln dari (-) :', int(nomor1)-int(nomor2))\n",
    "print('Hasil (+) :', int(nomor1)+int(nomor2))\n",
    "print('Hasil (/) :', int(nomor1)/int(nomor2))\n",
    "print('Hasil (*) :', int(nomor1)*int(nomor2))"
   ]
  },
  {
   "cell_type": "code",
   "execution_count": 16,
   "id": "1972eb5e",
   "metadata": {},
   "outputs": [
    {
     "name": "stdout",
     "output_type": "stream",
     "text": [
      "Masukan total tahun tagihan :12\n",
      "Tagihan yang telah dibayar :2\n",
      "Sisa cicilan adalah = 3650 hari, dan 10 tahun lagi\n"
     ]
    }
   ],
   "source": [
    "total_tahun = input ('Masukan total tahun tagihan :')\n",
    "tagihan_dibayar = input ('Tagihan yang telah dibayar :')\n",
    "sisa_cicilan = int(tahun_tagihan)-int(tagihan_dibayar)                  \n",
    "        \n",
    "print('Sisa cicilan adalah =', sisa_cicilan, *365 'hari, dan', sisa_cicilan, 'tahun lagi')"
   ]
  },
  {
   "cell_type": "code",
   "execution_count": null,
   "id": "bddb67e0",
   "metadata": {},
   "outputs": [],
   "source": []
  },
  {
   "cell_type": "code",
   "execution_count": null,
   "id": "0f5f8c05",
   "metadata": {},
   "outputs": [],
   "source": []
  }
 ],
 "metadata": {
  "kernelspec": {
   "display_name": "Python 3 (ipykernel)",
   "language": "python",
   "name": "python3"
  },
  "language_info": {
   "codemirror_mode": {
    "name": "ipython",
    "version": 3
   },
   "file_extension": ".py",
   "mimetype": "text/x-python",
   "name": "python",
   "nbconvert_exporter": "python",
   "pygments_lexer": "ipython3",
   "version": "3.9.12"
  }
 },
 "nbformat": 4,
 "nbformat_minor": 5
}
