{
 "cells": [
  {
   "cell_type": "code",
   "execution_count": 37,
   "id": "bef593f5",
   "metadata": {},
   "outputs": [
    {
     "name": "stdout",
     "output_type": "stream",
     "text": [
      "nilai_1 and nilai_2 =False\n",
      "nilai_1 and nilai_3 =True\n"
     ]
    }
   ],
   "source": [
    "x < 5 and x < 10\n",
    "nilai_1=True\n",
    "nilai_2=False\n",
    "nilai_3=True\n",
    "\n",
    "print('nilai_1 and nilai_2 ='+ str(nilai_1 and nilai_2))\n",
    "print('nilai_1 and nilai_3 ='+ str(nilai_1 and nilai_3))\n",
    "\n"
   ]
  },
  {
   "cell_type": "code",
   "execution_count": 48,
   "id": "8d1e5d0f",
   "metadata": {},
   "outputs": [
    {
     "name": "stdout",
     "output_type": "stream",
     "text": [
      "Murah dan diskon maka True\n",
      "Tidak murah dan tidak diskon maka False\n"
     ]
    }
   ],
   "source": [
    "murah=True\n",
    "diskon=True\n",
    "\n",
    "print ('Murah dan diskon maka '+str(murah and diskon))\n",
    "print ('Tidak murah dan tidak diskon maka '+str(not murah and not diskon))"
   ]
  },
  {
   "cell_type": "code",
   "execution_count": 49,
   "id": "984be796",
   "metadata": {},
   "outputs": [
    {
     "name": "stdout",
     "output_type": "stream",
     "text": [
      "x =8\n",
      "y =8\n",
      "False\n",
      "False\n",
      "True\n",
      "False\n",
      "True\n",
      "True\n"
     ]
    }
   ],
   "source": [
    "x,y= int (input('x =')), int(input('y ='))\n",
    "\n",
    "\n",
    "print(x>y)\n",
    "print(x<y)\n",
    "print(x==y)\n",
    "print(x!=y) \n",
    "print(x>=y)\n",
    "print(x<=y)"
   ]
  },
  {
   "cell_type": "code",
   "execution_count": 54,
   "id": "a4d6dbd5",
   "metadata": {},
   "outputs": [
    {
     "name": "stdout",
     "output_type": "stream",
     "text": [
      "a is b: True\n",
      "a is not b: False\n",
      "list_a is list_b: False\n",
      "list_a == list_b: True\n",
      "nama_a is nama_b: True\n",
      "nama_a is not nama_b: False\n"
     ]
    }
   ],
   "source": [
    "a=5\n",
    "b=5\n",
    "list_a = [1, 2, 3]\n",
    "list_b = [1, 2, 3]\n",
    "nama_a = 'Budi'\n",
    "nama_b = 'Budi'\n",
    "\n",
    "print('a is b:', a is b)\n",
    "print('a is not b:', a is not b)\n",
    "\n",
    "print('list_a is list_b:', list_a is list_b)\n",
    "print('list_a == list_b:', list_a == list_b)\n",
    "\n",
    "print('nama_a is nama_b:', nama_a is nama_b)\n",
    "print('nama_a is not nama_b:', nama_a is not nama_b)"
   ]
  },
  {
   "cell_type": "code",
   "execution_count": 56,
   "id": "9ed14fa5",
   "metadata": {},
   "outputs": [
    {
     "name": "stdout",
     "output_type": "stream",
     "text": [
      "False\n",
      "True\n"
     ]
    }
   ],
   "source": [
    "bahasa1 = ['python', 'php', 'java', 'javascript']\n",
    "bahasa2 = ['python', 'php', 'golang', 'java']\n",
    "\n",
    "print (bahasa1 is bahasa2)\n",
    "print (bahasa1 is not bahasa2)"
   ]
  },
  {
   "cell_type": "code",
   "execution_count": 57,
   "id": "1bdef1ca",
   "metadata": {},
   "outputs": [
    {
     "name": "stdout",
     "output_type": "stream",
     "text": [
      "apakah 'c' ada di variabel perusahaan True\n"
     ]
    }
   ],
   "source": [
    "x = 'microsoft'\n",
    "list_pulau = ['jawa', 'sumatra', 'sulawesi']\n",
    "\n",
    "print(\n",
    "\"apakah 'c' ada di variabel perusahaan\",\"c\" in x\n",
    ")"
   ]
  },
  {
   "cell_type": "code",
   "execution_count": 58,
   "id": "fa96b541",
   "metadata": {},
   "outputs": [
    {
     "name": "stdout",
     "output_type": "stream",
     "text": [
      "True\n"
     ]
    }
   ],
   "source": [
    "nama = 'udin'\n",
    "kelas = ['TI21A', 'TI22A', 'TI22C']\n",
    "\n",
    "print ('TI22A' in kelas)"
   ]
  },
  {
   "cell_type": "code",
   "execution_count": 68,
   "id": "9c43bbdd",
   "metadata": {},
   "outputs": [
    {
     "name": "stdout",
     "output_type": "stream",
     "text": [
      "00000001\n",
      "01111011\n"
     ]
    },
    {
     "data": {
      "text/plain": [
       "'0b11111111'"
      ]
     },
     "execution_count": 68,
     "metadata": {},
     "output_type": "execute_result"
    }
   ],
   "source": [
    "print (format(1, '08b'))\n",
    "print (format(123,'08b'))\n",
    "bin (255)"
   ]
  },
  {
   "cell_type": "code",
   "execution_count": 79,
   "id": "35948a8c",
   "metadata": {},
   "outputs": [
    {
     "name": "stdout",
     "output_type": "stream",
     "text": [
      "h binernya adalah 01101000\n",
      "e binernya adalah 01100101\n",
      "l binernya adalah 01001100\n",
      "l binernya adalah 01001100\n",
      "o binernya adalah 01101111\n"
     ]
    }
   ],
   "source": [
    "h=104\n",
    "e=101\n",
    "l=108\n",
    "o=111\n",
    "\n",
    "print ('h binernya adalah', format(h, '08b'))\n",
    "print ('e binernya adalah', format(e, '08b'))\n",
    "print ('l binernya adalah', format(l, '08b'))\n",
    "print ('l binernya adalah', format(l, '08b'))\n",
    "print ('o binernya adalah', format(o, '08b'))"
   ]
  },
  {
   "cell_type": "code",
   "execution_count": null,
   "id": "47eb2f67",
   "metadata": {},
   "outputs": [],
   "source": []
  },
  {
   "cell_type": "code",
   "execution_count": null,
   "id": "e7efbd5f",
   "metadata": {},
   "outputs": [],
   "source": []
  }
 ],
 "metadata": {
  "kernelspec": {
   "display_name": "Python 3 (ipykernel)",
   "language": "python",
   "name": "python3"
  },
  "language_info": {
   "codemirror_mode": {
    "name": "ipython",
    "version": 3
   },
   "file_extension": ".py",
   "mimetype": "text/x-python",
   "name": "python",
   "nbconvert_exporter": "python",
   "pygments_lexer": "ipython3",
   "version": "3.9.12"
  }
 },
 "nbformat": 4,
 "nbformat_minor": 5
}
