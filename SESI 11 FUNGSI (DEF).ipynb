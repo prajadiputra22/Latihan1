{
 "cells": [
  {
   "cell_type": "code",
   "execution_count": 6,
   "id": "298fa20d",
   "metadata": {},
   "outputs": [
    {
     "name": "stdout",
     "output_type": "stream",
     "text": [
      "Nama : darma\n",
      "Usia : 18\n",
      "Class : TI22E\n",
      "Jurusan : TEKNIK INFORMATIKA\n",
      "\n",
      "Nama : Karma\n",
      "Usia : 18\n",
      "Class : TI22E\n",
      "Jurusan : TEKNIK INFORMATIKA\n",
      "\n"
     ]
    }
   ],
   "source": [
    "def biodata(nama, usia, kelas, jrs):\n",
    "    dict = {\n",
    "            'Nama': nama,\n",
    "            'Usia': usia,\n",
    "            'Class': kelas,\n",
    "            'Jurusan': jrs\n",
    "    }\n",
    "    [print(i,':', dict[i]) for i in dict]\n",
    "    print('')\n",
    "    \n",
    "biodata('darma',18,'TI22E','TEKNIK INFORMATIKA')\n",
    "biodata('Karma',18,'TI22E','TEKNIK INFORMATIKA')   \n",
    "    "
   ]
  },
  {
   "cell_type": "code",
   "execution_count": 9,
   "id": "4cec77ab",
   "metadata": {},
   "outputs": [
    {
     "name": "stdout",
     "output_type": "stream",
     "text": [
      "Biodata('darma', 18, 'TEKNIK INFORMATIKA', 'TI22E')\n",
      "\n",
      "Biodata('Karma', 18, 'TEKNIK INFORMATIKA', 'TI22E')\n",
      "\n"
     ]
    }
   ],
   "source": [
    "def biodata(nama, usia, kelas, jrs):\n",
    "    dict = {\n",
    "            'Nama': nama,\n",
    "            'Usia': usia,\n",
    "            'Class': kelas,\n",
    "            'Jurusan': jrs\n",
    "    }\n",
    "   \n",
    "    print(f\"Biodata{nama, usia, jrs, kelas}\")\n",
    "    print('')\n",
    "    \n",
    "biodata('darma',18,'TI22E','TEKNIK INFORMATIKA')\n",
    "biodata('Karma',18,'TI22E','TEKNIK INFORMATIKA')   \n",
    "    "
   ]
  },
  {
   "cell_type": "code",
   "execution_count": 11,
   "id": "5e6aa87b",
   "metadata": {},
   "outputs": [
    {
     "name": "stdout",
     "output_type": "stream",
     "text": [
      "perkenalkan saya udin, asal saya dari sukabumi\n"
     ]
    }
   ],
   "source": [
    "#parameter wajib\n",
    "\n",
    "def mahasiswa(nama, asal):\n",
    "    print(f\"perkenalkan saya {nama}, asal saya dari {asal}\")\n",
    "    \n",
    "mahasiswa('udin','sukabumi')"
   ]
  },
  {
   "cell_type": "code",
   "execution_count": 13,
   "id": "251e1764",
   "metadata": {},
   "outputs": [
    {
     "name": "stdout",
     "output_type": "stream",
     "text": [
      "perkenalkan saya udin, asal saya dari sukabumi\n"
     ]
    }
   ],
   "source": [
    "#parameter default\n",
    "def mahasiswa(nama, asal='sukabumi'):\n",
    "    print(f\"perkenalkan saya {nama}, asal saya dari {asal}\")\n",
    "    \n",
    "mahasiswa('udin')"
   ]
  },
  {
   "cell_type": "code",
   "execution_count": 16,
   "id": "9e129292",
   "metadata": {},
   "outputs": [
    {
     "data": {
      "text/plain": [
       "12"
      ]
     },
     "execution_count": 16,
     "metadata": {},
     "output_type": "execute_result"
    }
   ],
   "source": [
    "#RETURN\n",
    "\n",
    "def luas_persegi_panjang(panjang, lebar) :\n",
    "    return panjang*lebar\n",
    "luas_persegi_panjang(4,3)"
   ]
  },
  {
   "cell_type": "code",
   "execution_count": 19,
   "id": "492e4b49",
   "metadata": {},
   "outputs": [
    {
     "name": "stdout",
     "output_type": "stream",
     "text": [
      "Masukan panjang : 12\n",
      "Masukan lebar : 3\n"
     ]
    },
    {
     "data": {
      "text/plain": [
       "36"
      ]
     },
     "execution_count": 19,
     "metadata": {},
     "output_type": "execute_result"
    }
   ],
   "source": [
    "def luas_persegi_panjang(panjang, lebar) :\n",
    "    return panjang*lebar\n",
    "\n",
    "p=int(input('Masukan panjang : '))\n",
    "l=int(input('Masukan lebar : '))\n",
    "\n",
    "luas_persegi_panjang(p,l)"
   ]
  }
 ],
 "metadata": {
  "kernelspec": {
   "display_name": "Python 3 (ipykernel)",
   "language": "python",
   "name": "python3"
  },
  "language_info": {
   "codemirror_mode": {
    "name": "ipython",
    "version": 3
   },
   "file_extension": ".py",
   "mimetype": "text/x-python",
   "name": "python",
   "nbconvert_exporter": "python",
   "pygments_lexer": "ipython3",
   "version": "3.9.12"
  }
 },
 "nbformat": 4,
 "nbformat_minor": 5
}
