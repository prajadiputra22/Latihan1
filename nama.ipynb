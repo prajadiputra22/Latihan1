{
 "cells": [
  {
   "cell_type": "code",
   "execution_count": 22,
   "id": "25b125ae",
   "metadata": {},
   "outputs": [
    {
     "name": "stdout",
     "output_type": "stream",
     "text": [
      "===== LATIHAN =====\n",
      "nama: Darmawan\n",
      "usia: 18\n",
      "Sudah menikah: False\n",
      "hobi: main game\n",
      "Asal sekolah: SMK YASTI\n",
      "===== TERIMAKASIH =====\n"
     ]
    }
   ],
   "source": [
    "print('='*5,'LATIHAN','='*5)\n",
    "\n",
    "nama = 'Darmawan'\n",
    "usia = 18\n",
    "status = False\n",
    "hobi = 'main game'\n",
    "sekolah = 'SMK YASTI'\n",
    "\n",
    "print ('nama:',nama)\n",
    "print ('usia:',usia)\n",
    "print ('Sudah menikah:',status)\n",
    "print ('hobi:',hobi)\n",
    "print ('Asal sekolah:',sekolah)\n",
    "\n",
    "print('='*5,'TERIMAKASIH','='*5)"
   ]
  },
  {
   "cell_type": "code",
   "execution_count": 20,
   "id": "a22c19b9",
   "metadata": {},
   "outputs": [
    {
     "name": "stdout",
     "output_type": "stream",
     "text": [
      "a= 1\n",
      "b= 2\n",
      "c= mantap\n"
     ]
    }
   ],
   "source": [
    "a,b,c=1,2,'mantap'\n",
    "\n",
    "print ('a=',a)\n",
    "print ('b=',b)\n",
    "print ('c=',c)"
   ]
  },
  {
   "cell_type": "code",
   "execution_count": 21,
   "id": "597e4924",
   "metadata": {},
   "outputs": [
    {
     "name": "stdout",
     "output_type": "stream",
     "text": [
      "a= 10\n",
      "b= 10\n",
      "c= 10\n"
     ]
    }
   ],
   "source": [
    "a=b=c=10\n",
    "\n",
    "print ('a=',a)\n",
    "print ('b=',b)\n",
    "print ('c=',c)"
   ]
  },
  {
   "cell_type": "code",
   "execution_count": 25,
   "id": "3ceadec2",
   "metadata": {},
   "outputs": [
    {
     "name": "stdout",
     "output_type": "stream",
     "text": [
      "<class 'int'>\n",
      "<class 'str'>\n"
     ]
    }
   ],
   "source": [
    "kota = 'Sukabumi'\n",
    "luas = 600\n",
    "print (type(luas))\n",
    "print (type(kota))"
   ]
  },
  {
   "cell_type": "code",
   "execution_count": 27,
   "id": "bf81ecf3",
   "metadata": {},
   "outputs": [
    {
     "name": "stdout",
     "output_type": "stream",
     "text": [
      "10.5 * 5 = 52.5\n",
      "type data lebar <class 'int'>\n",
      "type data panjang <class 'float'>\n",
      "type data luas <class 'float'>\n"
     ]
    }
   ],
   "source": [
    "lebar=5\n",
    "panjang=10.5\n",
    "luas = lebar*panjang\n",
    "\n",
    "print (panjang,'*',lebar,'=',luas)\n",
    "print ('type data lebar',type(lebar))\n",
    "print ('type data panjang',type(panjang))\n",
    "print ('type data luas',type(luas))"
   ]
  },
  {
   "cell_type": "code",
   "execution_count": 28,
   "id": "559d47db",
   "metadata": {},
   "outputs": [
    {
     "name": "stdout",
     "output_type": "stream",
     "text": [
      "5j + 10j = 15j\n",
      "type data a <class 'complex'>\n",
      "type data b <class 'complex'>\n",
      "type data c <class 'complex'>\n"
     ]
    }
   ],
   "source": [
    "a=5j\n",
    "b=10j\n",
    "c=a+b\n",
    "\n",
    "print (a,'+',b,'=',c)\n",
    "print ('type data a', type(a))\n",
    "print ('type data b', type(b))\n",
    "print ('type data c', type(c))"
   ]
  },
  {
   "cell_type": "code",
   "execution_count": null,
   "id": "ef39da59",
   "metadata": {},
   "outputs": [],
   "source": []
  }
 ],
 "metadata": {
  "kernelspec": {
   "display_name": "Python 3 (ipykernel)",
   "language": "python",
   "name": "python3"
  },
  "language_info": {
   "codemirror_mode": {
    "name": "ipython",
    "version": 3
   },
   "file_extension": ".py",
   "mimetype": "text/x-python",
   "name": "python",
   "nbconvert_exporter": "python",
   "pygments_lexer": "ipython3",
   "version": "3.9.12"
  }
 },
 "nbformat": 4,
 "nbformat_minor": 5
}
